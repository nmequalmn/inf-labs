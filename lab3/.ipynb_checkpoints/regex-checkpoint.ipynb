{
 "cells": [
  {
   "cell_type": "markdown",
   "id": "166d585c",
   "metadata": {},
   "source": [
    "# Лабораторная работа №3. Регулярные выражения в Python.\n",
    "## Мой ИСУ: 367361\n",
    "---\n",
    "\n",
    "## Задание на 60 баллов (Смайлики)\n",
    "#### 1) Реализуйте программный продукт на языке Python, используя регулярные выражения по варианту, представленному в таблице.\n",
    "#### 2) Для своей программы придумайте минимум 5 тестов. Каждый тест является отдельной сущностью, передаваемой регулярному выражению для обработки. Для каждого теста необходимо самостоятельно (без использования регулярных выражений) найти правильный ответ. После чего сравнить ответ, выданный программой, и полученный самостоятельно.\n",
    "#### 3) Программа должна считать количество смайликов определённого вида (вид смайлика описан в таблице вариантов) в предложенном тексте. Все смайлики имеют такую структуру: [глаза][нос][рот].\n",
    "Вариантом является различные наборы глаз, носов и ртов.\n",
    "\n",
    "<img src=\"./table.png\" style=\"width: 600px;\">\n",
    "\n",
    "#### 4) * нарисовав смайлик по вашему варианту при помощи средств языка программирования Python, можно заработать дополнительные баллы."
   ]
  },
  {
   "cell_type": "markdown",
   "id": "8a98bcb2",
   "metadata": {},
   "source": [
    "### Реализуем"
   ]
  },
  {
   "cell_type": "code",
   "execution_count": 2,
   "id": "d9d751cb",
   "metadata": {},
   "outputs": [],
   "source": [
    "import re # импорт нашей решки\n",
    "ISU_LOGIN = 367361 # вводим переменную номера ису\n",
    "#функция, которая считает количество смайликов в тексте\n",
    "def findAndCount(text, to_find):\n",
    "    res = re.findall(to_find, text)\n",
    "    return len(res)"
   ]
  },
  {
   "cell_type": "code",
   "execution_count": 6,
   "id": "0fe79a18",
   "metadata": {},
   "outputs": [
    {
     "name": "stdout",
     "output_type": "stream",
     "text": [
      "\\;\\<\\)\n"
     ]
    }
   ],
   "source": [
    "# -------- Генерируем эмоджи(в regex формате) --------\n",
    "def emoji(num):\n",
    "    res = \"\"\n",
    "    if num%5 == 0:\n",
    "        res+=\"\\\\:\"\n",
    "    if num%5 == 1:\n",
    "        res+=\"\\;\"\n",
    "    if num%5 == 2:\n",
    "        res+=\"\\X\"\n",
    "    if num%5 == 3:\n",
    "        res+=\"\\8\"\n",
    "    if num%5 == 4:\n",
    "        res+=\"\\=\"\n",
    "    if num%4 == 0:\n",
    "        res+=\"\\-\"\n",
    "    if num%4 == 1:\n",
    "        res+=\"\\<\"\n",
    "    if num%4 == 2:\n",
    "        res+=\"\\-{\"\n",
    "    if num%4 == 3:\n",
    "        res+=\"\\<{\"\n",
    "    if num%7 == 0:\n",
    "        res+=\"\\(\"\n",
    "    if num%7 == 1:\n",
    "        res+=\"\\)\"\n",
    "    if num%7 == 2:\n",
    "        res+=\"\\O\"\n",
    "    if num%7 == 3:\n",
    "        res+=\"\\|\"\n",
    "    if num%7 == 4:\n",
    "        res+=\"\\\\\"\n",
    "    if num%7 == 5:\n",
    "        res+=\"\\/\"\n",
    "    if num%7 == 6:\n",
    "        res+=\"\\P\"\n",
    "    return res\n",
    "\n",
    "to_find = emoji(ISU_LOGIN)\n",
    "print(to_find) "
   ]
  },
  {
   "cell_type": "markdown",
   "id": "1964a8a3",
   "metadata": {},
   "source": [
    "### Тестим"
   ]
  },
  {
   "cell_type": "code",
   "execution_count": 9,
   "id": "f7498bf2",
   "metadata": {},
   "outputs": [],
   "source": [
    "# текста для проверки\n",
    "texts_to_validate = [';<) ;<) ;<) ;<),;<) ;<), ;<), ;<)', \n",
    "                    '$;<)$;<);<);<);<);<)$ fidsjofd ffnkskskd ;<) sdkljfsdkl ds',\n",
    "                   'Lorem ipsum dolo;<)r sit amet, consectetur adipiscing elit, sed do eiusm;<)od tempor incididunt ut labore et dolore magna aliqua. Ut enim ad minim veniam, quis nostrud exercitation ullamco laboris nisi ut aliquip ex ea commodo consequat. Duis aute irure dolor in reprehenderit in voluptate velit esse cillum dolore eu fugiat nulla pariatur. Excepteur sint occaecat cupidatat non proident, sunt in culpa qui officia deserunt mollit anim id est laborum.']\n",
    "# ответы\n",
    "ans = [8,7,2]"
   ]
  },
  {
   "cell_type": "code",
   "execution_count": 15,
   "id": "d5ec4754",
   "metadata": {},
   "outputs": [
    {
     "name": "stdout",
     "output_type": "stream",
     "text": [
      "Succefull\n"
     ]
    }
   ],
   "source": [
    "# функция для проверки\n",
    "def validate(texts_to_validate,answers):\n",
    "    for i in range(len(texts_to_validate)):\n",
    "        if(ans[i]!=findAndCount(texts_to_validate[i],to_find)):\n",
    "            print(\"ERROR\")\n",
    "            return\n",
    "    print(\"Succefull\")\n",
    "\n",
    "validate(texts_to_validate, ans)"
   ]
  },
  {
   "cell_type": "markdown",
   "id": "6cf37f40",
   "metadata": {},
   "source": [
    "## Доп. задание №1\n",
    "\n",
    "#### 1) Реализуйте программный продукт на языке Python, используя регулярные выражения по варианту, представленному в таблице.\n",
    "#### 2) Для своей программы придумайте минимум 5 тестов. Каждый тест является отдельной сущностью, передаваемой регулярному выражению для обработки. Для каждого теста необходимо самостоятельно (без использования регулярных выражений) найти правильный ответ. После чего сравнить ответ, выданный программой, и полученный самостоятельно.\n",
    "##### Тесты для моего варианта:\n",
    "<img src=\"./table2.png\" style=\"width: 600px;\" alt=\"тесты для моего варианта\">"
   ]
  },
  {
   "cell_type": "code",
   "execution_count": null,
   "id": "2674887c",
   "metadata": {},
   "outputs": [],
   "source": []
  },
  {
   "cell_type": "markdown",
   "id": "18cf0ecd",
   "metadata": {},
   "source": [
    "## Доп. задание №2 (+22 баллов)\n",
    "#### 1) Реализуйте программный продукт на языке Python, используя регулярные выражения по варианту, представленному в таблице.\n",
    "#### 2) Для своей программы придумайте минимум 5 тестов.\n",
    "#### 3) Протестируйте свою программу на этих тестах.\n",
    "<img src=\"./table3.png\" style=\"width: 600px;\">"
   ]
  },
  {
   "cell_type": "code",
   "execution_count": null,
   "id": "d1c97868",
   "metadata": {},
   "outputs": [],
   "source": []
  }
 ],
 "metadata": {
  "kernelspec": {
   "display_name": "Python 3 (ipykernel)",
   "language": "python",
   "name": "python3"
  },
  "language_info": {
   "codemirror_mode": {
    "name": "ipython",
    "version": 3
   },
   "file_extension": ".py",
   "mimetype": "text/x-python",
   "name": "python",
   "nbconvert_exporter": "python",
   "pygments_lexer": "ipython3",
   "version": "3.9.12"
  }
 },
 "nbformat": 4,
 "nbformat_minor": 5
}
