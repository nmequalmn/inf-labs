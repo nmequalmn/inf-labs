{
 "cells": [
  {
   "cell_type": "markdown",
   "id": "06c55653",
   "metadata": {},
   "source": [
    "# Лабораторная работа №3. Регулярные выражения в Python.\n",
    "## Мой ИСУ: 367361\n",
    "---\n",
    "\n",
    "## Задание на 60 баллов (Смайлики)\n",
    "#### 1) Реализуйте программный продукт на языке Python, используя регулярные выражения по варианту, представленному в таблице.\n",
    "#### 2) Для своей программы придумайте минимум 5 тестов. Каждый тест является отдельной сущностью, передаваемой регулярному выражению для обработки. Для каждого теста необходимо самостоятельно (без использования регулярных выражений) найти правильный ответ. После чего сравнить ответ, выданный программой, и полученный самостоятельно.\n",
    "#### 3) Программа должна считать количество смайликов определённого вида (вид смайлика описан в таблице вариантов) в предложенном тексте. Все смайлики имеют такую структуру: [глаза][нос][рот].\n",
    "Вариантом является различные наборы глаз, носов и ртов.\n",
    "\n",
    "<img src=\"./table.png\" style=\"width: 600px;\">\n",
    "\n",
    "#### 4) * нарисовав смайлик по вашему варианту при помощи средств языка программирования Python, можно заработать дополнительные баллы."
   ]
  },
  {
   "cell_type": "markdown",
   "id": "98870ca5",
   "metadata": {},
   "source": [
    "### Реализуем"
   ]
  },
  {
   "cell_type": "code",
   "execution_count": 3,
   "id": "28fa339a",
   "metadata": {},
   "outputs": [],
   "source": [
    "import re # импорт нашей решки\n",
    "ISU_LOGIN = 367361 # вводим переменную номера ису\n",
    "#функция, которая считает количество смайликов в тексте\n",
    "def findAndCount(text, to_find):\n",
    "    res = re.findall(to_find, text)\n",
    "    return len(res)"
   ]
  },
  {
   "cell_type": "code",
   "execution_count": 4,
   "id": "ed9ad18c",
   "metadata": {},
   "outputs": [
    {
     "name": "stdout",
     "output_type": "stream",
     "text": [
      "\\;\\<\\)\n"
     ]
    }
   ],
   "source": [
    "# -------- Генерируем эмоджи(в regex формате) --------\n",
    "def emoji(num):\n",
    "    res = \"\"\n",
    "    if num%5 == 0:\n",
    "        res+=\"\\\\:\"\n",
    "    if num%5 == 1:\n",
    "        res+=\"\\;\"\n",
    "    if num%5 == 2:\n",
    "        res+=\"\\X\"\n",
    "    if num%5 == 3:\n",
    "        res+=\"\\8\"\n",
    "    if num%5 == 4:\n",
    "        res+=\"\\=\"\n",
    "    if num%4 == 0:\n",
    "        res+=\"\\-\"\n",
    "    if num%4 == 1:\n",
    "        res+=\"\\<\"\n",
    "    if num%4 == 2:\n",
    "        res+=\"\\-{\"\n",
    "    if num%4 == 3:\n",
    "        res+=\"\\<{\"\n",
    "    if num%7 == 0:\n",
    "        res+=\"\\(\"\n",
    "    if num%7 == 1:\n",
    "        res+=\"\\)\"\n",
    "    if num%7 == 2:\n",
    "        res+=\"\\O\"\n",
    "    if num%7 == 3:\n",
    "        res+=\"\\|\"\n",
    "    if num%7 == 4:\n",
    "        res+=\"\\\\\"\n",
    "    if num%7 == 5:\n",
    "        res+=\"\\/\"\n",
    "    if num%7 == 6:\n",
    "        res+=\"\\P\"\n",
    "    return res\n",
    "\n",
    "to_find = emoji(ISU_LOGIN)\n",
    "print(to_find) "
   ]
  },
  {
   "cell_type": "markdown",
   "id": "e4fc4b1a",
   "metadata": {},
   "source": [
    "### Тестим"
   ]
  },
  {
   "cell_type": "code",
   "execution_count": 5,
   "id": "c6ebc594",
   "metadata": {},
   "outputs": [],
   "source": [
    "# текста для проверки\n",
    "texts_to_validate = [';<) ;<) ;<) ;<),;<) ;<), ;<), ;<)', \n",
    "                    '$;<)$;<);<);<);<);<)$ fidsjofd ffnkskskd ;<) sdkljfsdkl ds',\n",
    "                   'Lorem ipsum dolo;<)r sit amet, consectetur adipiscing elit, sed do eiusm;<)od tempor incididunt ut labore et dolore magna aliqua. Ut enim ad minim veniam, quis nostrud exercitation ullamco laboris nisi ut aliquip ex ea commodo consequat. Duis aute irure dolor in reprehenderit in voluptate velit esse cillum dolore eu fugiat nulla pariatur. Excepteur sint occaecat cupidatat non proident, sunt in culpa qui officia deserunt mollit anim id est laborum.']\n",
    "# ответы\n",
    "ans = [8,7,2]"
   ]
  },
  {
   "cell_type": "code",
   "execution_count": 6,
   "id": "4589328b",
   "metadata": {},
   "outputs": [
    {
     "name": "stdout",
     "output_type": "stream",
     "text": [
      "Succefull\n"
     ]
    }
   ],
   "source": [
    "# функция для проверки\n",
    "def validate(texts_to_validate,answers):\n",
    "    for i in range(len(texts_to_validate)):\n",
    "        if(ans[i]!=findAndCount(texts_to_validate[i],to_find)):\n",
    "            print(\"ERROR\")\n",
    "            return\n",
    "    print(\"Succefull\")\n",
    "\n",
    "validate(texts_to_validate, ans)"
   ]
  },
  {
   "cell_type": "markdown",
   "id": "333f849c",
   "metadata": {},
   "source": [
    "## Доп. задание №1 (+18 баллов)\n",
    "\n",
    "#### 1) Реализуйте программный продукт на языке Python, используя регулярные выражения по варианту, представленному в таблице.\n",
    "#### 2) Для своей программы придумайте минимум 5 тестов. Каждый тест является отдельной сущностью, передаваемой регулярному выражению для обработки. Для каждого теста необходимо самостоятельно (без использования регулярных выражений) найти правильный ответ. После чего сравнить ответ, выданный программой, и полученный самостоятельно.\n",
    "##### Тесты для моего варианта:\n",
    "<img src=\"./table2.png\" style=\"width: 600px;\" alt=\"тесты для моего варианта\">"
   ]
  },
  {
   "cell_type": "code",
   "execution_count": 7,
   "id": "ec1328fb",
   "metadata": {},
   "outputs": [],
   "source": [
    "regular = r\"\\b\\w+[ыуеёаоэяиюЫУЕЁАОЭЯИЮ]{2}\\w+\\b \\b[ыуеёаоэяиюЫУЕЁАОЭЯИЮьЬъЪ]*[йцкнгшщзхфвпрлджчсмтбЙЦКНГШЩЗХФВПРЛДЖЧСМТБ]?[ыуеёаоэяиюЫУЕЁАОЭЯИЮьЬъЪ]+[йцкнгшщзхфвпрлджчсмтбЙЦКНГШЩЗХФВПРЛДЖЧСМТБ]?[ыуеёаоэяиюЫУЕЁАОЭЯИЮьЬъЪ]*[йцкнгшщзхфвпрлджчсмтбЙЦКНГШЩЗХФВПРЛДЖЧСМТБ]?[ыуеёаоэяиюЫУЕЁАОЭЯИЮьЬъЪ]*\\b\"\n"
   ]
  },
  {
   "cell_type": "code",
   "execution_count": 35,
   "id": "b62acb55",
   "metadata": {},
   "outputs": [
    {
     "name": "stdout",
     "output_type": "stream",
     "text": [
      "['гуляет']\n"
     ]
    }
   ],
   "source": [
    "example = 'Кривошеее существо гуляет по парку'\n",
    "\n",
    "print([i.split(' ')[0] for i in re.findall(regular, example)])"
   ]
  },
  {
   "cell_type": "code",
   "execution_count": 26,
   "id": "df277a5d",
   "metadata": {},
   "outputs": [],
   "source": [
    "# текста для проверки\n",
    "texts_to_validate = ['Учитывая ключевые сценарии поведения, реализация намеченных плановых заданий требует от нас анализа прогресса профессионального сообщества.',\n",
    "                     'Мы вынуждены отталкиваться от того, что понимание сути ресурсосберегающих технологий играет определяющее значение для кластеризации усилий.',\n",
    "                     'С учётом сложившейся международной обстановки, синтетическое тестирование предполагает независимые способы реализации системы массового участия.',\n",
    "                     'В своём стремлении повысить качество жизни, они забывают, что высококачественный прототип будущего проекта предоставляет широкие возможности для инновационных методов управления процессами.',\n",
    "                     'Мы вынуждены отталкиваться от того, что перспективное планирование играет важную роль в формировании благоприятных перспектив.']\n",
    "# ответы\n",
    "ans = [['требует'],[],[],['предоставляет'],['играет']]"
   ]
  },
  {
   "cell_type": "code",
   "execution_count": 36,
   "id": "8ec90ac5",
   "metadata": {},
   "outputs": [
    {
     "name": "stdout",
     "output_type": "stream",
     "text": [
      "Succefull\n"
     ]
    }
   ],
   "source": [
    "# функция для проверки\n",
    "def validate(texts_to_validate,answers):\n",
    "    for i in range(len(texts_to_validate)):\n",
    "        if(ans[i]!=[j.split(' ')[0] for j in re.findall(regular, texts_to_validate[i])]):\n",
    "            print(\"ERROR\")\n",
    "            return\n",
    "    print(\"Succefull\")\n",
    "\n",
    "validate(texts_to_validate, ans)"
   ]
  },
  {
   "cell_type": "markdown",
   "id": "95601bfa",
   "metadata": {},
   "source": [
    "## Доп. задание №2 (+22 баллов)\n",
    "#### 1) Реализуйте программный продукт на языке Python, используя регулярные выражения по варианту, представленному в таблице.\n",
    "#### 2) Для своей программы придумайте минимум 5 тестов.\n",
    "#### 3) Протестируйте свою программу на этих тестах.\n",
    "<img src=\"./table3.png\" style=\"width: 600px;\">"
   ]
  },
  {
   "cell_type": "code",
   "execution_count": 48,
   "id": "12189c16",
   "metadata": {},
   "outputs": [],
   "source": [
    "regular = r\"\\b(?:[ыуеёаоэяиюЫУЕЁАОЭЯИЮ]([йцкнгшщзхфвпрлджчсмтбЙЦКНГШЩЗХФВПРЛДЖЧСМТБьЬъЪ]+[ыуеёаоэяиюЫУЕЁАОЭЯИЮ]?)*?|([йцкнгшщзхфвпрлджчсмтбЙЦКНГШЩЗХФВПРЛДЖЧСМТБьЬъЪ]+[ыуеёаоэяиюЫУЕЁАОЭЯИЮ]?)+)\\b\"\n"
   ]
  },
  {
   "cell_type": "code",
   "execution_count": 71,
   "id": "a847653a",
   "metadata": {},
   "outputs": [
    {
     "name": "stdout",
     "output_type": "stream",
     "text": [
      "['и', 'идти', 'слов', 'слово', 'после', 'трава', 'должно', 'молоко', 'обороноспособность']\n"
     ]
    }
   ],
   "source": [
    "example = 'Классное слово - обороноспособность, которое должно идти после слов: трава и молоко.'\n",
    "res = [i[0] for i in re.finditer(regular, example, re.MULTILINE)]\n",
    "res.sort(key=lambda x: len(x))\n",
    "print(res)"
   ]
  },
  {
   "cell_type": "code",
   "execution_count": 78,
   "id": "35e156ee",
   "metadata": {},
   "outputs": [],
   "source": [
    "# текста для проверки\n",
    "texts_to_validate = ['Учитывая ключевые сценарии поведения, реализация намеченных плановых заданий требует от нас анализа прогресса профессионального сообщества.',\n",
    "                     'Мы вынуждены отталкиваться от того, что понимание сути ресурсосберегающих технологий играет определяющее значение для кластеризации усилий.',\n",
    "                     'С учётом сложившейся международной обстановки, синтетическое тестирование предполагает независимые способы реализации системы массового участия.',\n",
    "                     'В своём стремлении повысить качество жизни, они забывают, что высококачественный прототип будущего проекта предоставляет широкие возможности для инновационных методов управления процессами.',\n",
    "                     'Мы вынуждены отталкиваться от того, что перспективное планирование играет важную роль в формировании благоприятных перспектив.']\n",
    "# ответы\n",
    "ans = [ ['от', 'нас', 'заданий', 'анализа', 'плановых', 'прогресса', 'намеченных'],\n",
    "        ['Мы', 'от', 'что', 'для', 'того', 'сути', 'усилий', 'вынуждены', 'технологий', 'отталкиваться'],\n",
    "        ['С', 'учётом', 'способы', 'системы', 'массового', 'обстановки', 'сложившейся', 'международной'],\n",
    "        ['В', 'они', 'что', 'для', 'жизни', 'методов', 'повысить', 'качество', 'прототип', 'будущего', 'процессами', 'возможности', 'высококачественный'],\n",
    "        ['в', 'Мы', 'от', 'что', 'того', 'роль', 'вынуждены', 'перспектив', 'отталкиваться']]"
   ]
  },
  {
   "cell_type": "code",
   "execution_count": 79,
   "id": "78ab0da1",
   "metadata": {},
   "outputs": [
    {
     "name": "stdout",
     "output_type": "stream",
     "text": [
      "Succefull\n"
     ]
    }
   ],
   "source": [
    "# функция для проверки\n",
    "def validate(texts_to_validate,answers):\n",
    "    for i in range(len(texts_to_validate)):\n",
    "        res = [i[0] for i in re.finditer(regular, texts_to_validate[i], re.MULTILINE)]\n",
    "        res.sort(key=lambda x: len(x))\n",
    "        if(ans[i]!=res):\n",
    "            print(\"ERROR\")\n",
    "            return\n",
    "    print(\"Succefull\")\n",
    "\n",
    "validate(texts_to_validate, ans)"
   ]
  }
 ],
 "metadata": {
  "kernelspec": {
   "display_name": "Python 3.8.9 64-bit",
   "language": "python",
   "name": "python3"
  },
  "language_info": {
   "codemirror_mode": {
    "name": "ipython",
    "version": 3
   },
   "file_extension": ".py",
   "mimetype": "text/x-python",
   "name": "python",
   "nbconvert_exporter": "python",
   "pygments_lexer": "ipython3",
   "version": "3.8.9"
  },
  "vscode": {
   "interpreter": {
    "hash": "31f2aee4e71d21fbe5cf8b01ff0e069b9275f58929596ceb00d14d90e3e16cd6"
   }
  }
 },
 "nbformat": 4,
 "nbformat_minor": 5
}
